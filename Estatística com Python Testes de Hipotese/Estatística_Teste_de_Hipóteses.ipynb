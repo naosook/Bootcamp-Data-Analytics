{
  "nbformat": 4,
  "nbformat_minor": 0,
  "metadata": {
    "colab": {
      "provenance": []
    },
    "kernelspec": {
      "name": "python3",
      "display_name": "Python 3"
    },
    "language_info": {
      "name": "python"
    }
  },
  "cells": [
    {
      "cell_type": "markdown",
      "source": [
        "# Estatística - Teste de Hipóteses\n",
        "\n",
        "**Considerando a base de dados experimento_test_ab.csv responda as\n",
        "questões abaixo:**\n",
        "\n",
        "# **1. Qual dos cenários tem a maior taxa de conversão?**"
      ],
      "metadata": {
        "id": "9wSlU6T586IE"
      }
    },
    {
      "cell_type": "markdown",
      "source": [
        "Para calcular a taxa de conversão de cada cenário (versão A e versão B), devemos usar a fórmula:\n",
        "\n",
        "A taxa de conversão é uma métrica crucial para entender a eficácia de uma campanha ou página web em transformar visitantes em clientes ou realizar alguma ação desejada. A fórmula utilizada para calcular a taxa de conversão é a seguinte:\n",
        "\n",
        "Taxa de Conversão = (Total de Conversões / Total de Visualizações) × 100\n"
      ],
      "metadata": {
        "id": "GZ9lHfLf9Bd6"
      }
    },
    {
      "cell_type": "code",
      "execution_count": null,
      "metadata": {
        "colab": {
          "base_uri": "https://localhost:8080/"
        },
        "id": "ohHeNMTk8lB6",
        "outputId": "799bd2a8-ff3a-48d8-b8dd-156258997f1e"
      },
      "outputs": [
        {
          "output_type": "stream",
          "name": "stdout",
          "text": [
            "Versão_Página\n",
            "A    0.000696\n",
            "B    0.000830\n",
            "dtype: float64\n"
          ]
        }
      ],
      "source": [
        "import pandas as pd\n",
        "\n",
        "# Carregar os dados\n",
        "data = pd.read_csv('experimento_teste_ab (1).csv')\n",
        "\n",
        "# Calcular a taxa de conversão para cada versão\n",
        "conversion_rates = data.groupby('Versão_Página').apply(lambda x: x['Conversões'].sum() / x['Visualizações'].sum())\n",
        "\n",
        "# Exibir a taxa de conversão\n",
        "print(conversion_rates)\n"
      ]
    },
    {
      "cell_type": "markdown",
      "source": [
        "# **2. Calcule qual o tamanho da amostra necessária para o desenvolvimento de um teste A/B, seguindo os seguintes critérios:**\n",
        "\n",
        "\n",
        "**a. O cenário A, da base, como o inicial, que funciona hoje**"
      ],
      "metadata": {
        "id": "4MAkau-_9HPT"
      }
    },
    {
      "cell_type": "markdown",
      "source": [
        "Para realizar um teste A/B eficaz, é importante determinar o tamanho da amostra necessária para garantir que os resultados sejam estatisticamente significativos. A fórmula utilizada para calcular o tamanho da amostra para um teste A/B é a seguinte:\n",
        "\n",
        "n = [(Zα/2 + Zβ)² * (p1(1 - p1) + p2(1 - p2))] / (p2 - p1)²\n",
        "\n",
        "\n"
      ],
      "metadata": {
        "id": "jAILF1zs9OLf"
      }
    },
    {
      "cell_type": "code",
      "source": [
        "import math\n",
        "\n",
        "# Definições\n",
        "p1 = conversion_rates['A']  # taxa de conversão atual do cenário A\n",
        "p2 = 0.10  # taxa de conversão desejada\n",
        "alpha = 0.05\n",
        "beta = 0.20  # 1 - poder do teste (80% = 0.20)\n",
        "\n",
        "# Valores críticos de Z\n",
        "Z_alpha = 1.96  # para 95% de confiança\n",
        "Z_beta = 0.84   # para 80% de poder\n",
        "\n",
        "# Cálculo do tamanho da amostra\n",
        "n = ((Z_alpha + Z_beta) ** 2 * (p1 * (1 - p1) + p2 * (1 - p2))) / (p2 - p1) ** 2\n",
        "\n",
        "print(f\"Tamanho da amostra necessária para cada grupo: {math.ceil(n)}\")\n"
      ],
      "metadata": {
        "colab": {
          "base_uri": "https://localhost:8080/"
        },
        "id": "CphFGrSS86vD",
        "outputId": "bbc6d3eb-e7a4-4228-f368-bc64c3f9dbbb"
      },
      "execution_count": null,
      "outputs": [
        {
          "output_type": "stream",
          "name": "stdout",
          "text": [
            "Tamanho da amostra necessária para cada grupo: 73\n"
          ]
        }
      ]
    },
    {
      "cell_type": "markdown",
      "source": [
        "**b. Considere 95% de confiança de que o efeito na conversão não foi\n",
        "aleatório com um nível de significância de 5% (alpha = 0,05).**"
      ],
      "metadata": {
        "id": "wEyW4Ni39XJS"
      }
    },
    {
      "cell_type": "code",
      "source": [
        "import scipy.stats as stats\n",
        "\n",
        "# Parâmetros\n",
        "alpha = 0.05               # Nível de significância\n",
        "power = 0.80               # Poder do teste\n",
        "p1 = 0.20                  # Taxa de conversão atual (cenário A)\n",
        "p2 = 0.10                  # Taxa de conversão desejada (cenário B)\n",
        "\n",
        "# Z-scores\n",
        "z_alpha = stats.norm.ppf(1 - alpha / 2)  # Z para o nível de confiança de 95%\n",
        "z_beta = stats.norm.ppf(power)            # Z para o poder do teste de 80%\n",
        "\n",
        "# Cálculo do tamanho da amostra\n",
        "n = ((z_alpha + z_beta) ** 2 * (p1 * (1 - p1) + p2 * (1 - p2))) / ((p2 - p1) ** 2)\n",
        "\n",
        "# Resultados\n",
        "n = round(n)  # Arredondar para o inteiro mais próximo\n",
        "print(f'Tamanho da amostra necessário para cada grupo: {n}')\n"
      ],
      "metadata": {
        "id": "QY3txUWD9ZUA"
      },
      "execution_count": null,
      "outputs": []
    },
    {
      "cell_type": "markdown",
      "source": [
        "**c. Também considere 80% de certeza conseguir capturar o efeito\n",
        "da nova abordagem.**"
      ],
      "metadata": {
        "id": "hYpAw_r59cHN"
      }
    },
    {
      "cell_type": "code",
      "source": [
        "import scipy.stats as stats\n",
        "\n",
        "# Parâmetros\n",
        "alpha = 0.05              # Nível de significância (5%)\n",
        "power = 0.80              # Poder do teste (80%)\n",
        "p1 = 0.20                 # Taxa de conversão atual (cenário A)\n",
        "p2 = 0.10                 # Taxa de conversão desejada (cenário B)\n",
        "\n",
        "# Valores de Z para alpha e beta\n",
        "z_alpha = stats.norm.ppf(1 - alpha / 2)  # Z para o nível de confiança de 95% (1.96)\n",
        "z_beta = stats.norm.ppf(power)           # Z para o poder do teste de 80% (0.84)\n",
        "\n",
        "# Cálculo do tamanho da amostra\n",
        "n = ((z_alpha + z_beta) ** 2 * (p1 * (1 - p1) + p2 * (1 - p2))) / ((p2 - p1) ** 2)\n",
        "\n",
        "# Resultado arredondado\n",
        "n = round(n)\n",
        "\n",
        "print(f'Tamanho da amostra necessário para cada grupo: {n}')\n"
      ],
      "metadata": {
        "id": "tXHLmAnm9cj1"
      },
      "execution_count": null,
      "outputs": []
    },
    {
      "cell_type": "markdown",
      "source": [
        "# 3. Considerando uma amostra de 45 números que representam o index do dataframe, índices= ([909, 751, 402, 400, 726, 39, 184, 269, 255, 769,209, 715, 677, 381, 793, 697, 89, 280, 232, 756, 358, 36, 439, 768, 967,699, 473, 222, 89, 639, 883, 558, 757, 84, 907, 895, 217, 224, 311, 348,146, 505, 273, 957, 362]). Considerando essa amostra é possível dizer que a idade média das pessoas com problemas cardíacos é maior que 50 anos? Nível de significância igual a 5%."
      ],
      "metadata": {
        "id": "nZbtOoN39fKd"
      }
    },
    {
      "cell_type": "code",
      "source": [
        "import pandas as pd\n",
        "from scipy import stats\n",
        "\n",
        "# Carregar a base de dados (certifique-se de ajustar o caminho do arquivo)\n",
        "df = pd.read_csv('pacientes (1).csv')\n",
        "\n",
        "# Índices fornecidos\n",
        "indices = [909, 751, 402, 400, 726, 39, 184, 269, 255, 769, 209, 715, 677, 381, 793, 697,\n",
        "           89, 280, 232, 756, 358, 36, 439, 768, 967, 699, 473, 222, 89, 639, 883, 558,\n",
        "           757, 84, 907, 895, 217, 224, 311, 348, 146, 505, 273, 957, 362]\n",
        "\n",
        "# Extraindo a amostra de idades com base nos índices fornecidos\n",
        "amostra = df.loc[indices, 'Idade']\n",
        "\n",
        "# Definir a média a ser testada\n",
        "media_teste = 50\n",
        "\n",
        "# Realizar o teste t de uma amostra\n",
        "t_stat, p_valor = stats.ttest_1samp(amostra, media_teste)\n",
        "\n",
        "# Exibir os resultados\n",
        "print(f'T-statistic: {t_stat}')\n",
        "print(f'P-valor: {p_valor}')\n",
        "\n",
        "# Verificar se rejeitamos ou não a hipótese nula\n",
        "if p_valor / 2 < 0.05 and t_stat > 0:\n",
        "    print(\"Rejeitamos a hipótese nula. A idade média das pessoas com problemas cardíacos é maior que 50 anos.\")\n",
        "else:\n",
        "    print(\"Falhamos em rejeitar a hipótese nula. Não podemos afirmar que a idade média das pessoas com problemas cardíacos é maior que 50 anos.\")\n"
      ],
      "metadata": {
        "colab": {
          "base_uri": "https://localhost:8080/"
        },
        "id": "aprg5JdE9hSL",
        "outputId": "78eb359a-08f2-4d39-fa60-86ea27f376e2"
      },
      "execution_count": null,
      "outputs": [
        {
          "output_type": "stream",
          "name": "stdout",
          "text": [
            "T-statistic: 0.052280983519350496\n",
            "P-valor: 0.9585414467632783\n",
            "Falhamos em rejeitar a hipótese nula. Não podemos afirmar que a idade média das pessoas com problemas cardíacos é maior que 50 anos.\n"
          ]
        }
      ]
    },
    {
      "cell_type": "markdown",
      "source": [
        "# 4. Queremos entender que tipo de amostra estamos lidando se dividirmos os conjuntos em 2, sendo um com pessoas que têm condições de saúde adicionais e o outro com pessoas saudáveis. Seria dependente ou independente?"
      ],
      "metadata": {
        "id": "4Zaop0yQ95uJ"
      }
    },
    {
      "cell_type": "markdown",
      "source": [
        "Quando dividimos a amostra em dois grupos distintos, estamos avaliando diferentes populações. Isso implica que não existe relação entre os indivíduos dos dois grupos. A análise e as estatísticas que se aplicam a cada grupo podem ser tratadas separadamente, sem influenciar uma à outra.\n",
        "\n",
        "Grupo 1: Pessoas com condições de saúde adicionais.\n",
        "\n",
        "Grupo 2: Pessoas saudáveis.\n",
        "\n",
        "Esses grupos são formados por indivíduos diferentes, e as características de um grupo não dependem das características do outro. Portanto, estamos lidando com amostras independentes.\n",
        "\n"
      ],
      "metadata": {
        "id": "fF1La2kQ-uN0"
      }
    },
    {
      "cell_type": "code",
      "source": [
        "import pandas as pd\n",
        "\n",
        "# Carregar a base de dados\n",
        "df = pd.read_csv('pacientes (1).csv')\n",
        "\n",
        "# Exibir as primeiras linhas do dataframe\n",
        "print(\"Primeiras linhas do arquivo:\")\n",
        "print(df.head())\n",
        "\n",
        "# Dividir os dados em dois grupos\n",
        "grupo_condicoes_adicionais = df[df['Estado_Saude'] == 1]  # Pessoas com condições de saúde adicionais\n",
        "grupo_saudaveis = df[df['Estado_Saude'] == 0]  # Pessoas saudáveis\n",
        "\n",
        "# Exibir as informações dos grupos\n",
        "print(\"\\nGrupo com condições de saúde adicionais:\")\n",
        "print(grupo_condicoes_adicionais.describe())\n",
        "\n",
        "print(\"\\nGrupo saudável:\")\n",
        "print(grupo_saudaveis.describe())\n",
        "\n",
        "# Verificando a independência\n",
        "if grupo_condicoes_adicionais.shape[0] > 0 and grupo_saudaveis.shape[0] > 0:\n",
        "    print(\"\\nAs amostras são independentes, pois os grupos são formados por indivíduos distintos.\")\n",
        "else:\n",
        "    print(\"\\nAs amostras podem ser dependentes, pois não há indivíduos suficientes em um dos grupos.\")\n"
      ],
      "metadata": {
        "colab": {
          "base_uri": "https://localhost:8080/"
        },
        "id": "YJ55hEU499fK",
        "outputId": "f0aa31c8-b77d-4229-ed2e-b299df9cacdc"
      },
      "execution_count": null,
      "outputs": [
        {
          "output_type": "stream",
          "name": "stdout",
          "text": [
            "Primeiras linhas do arquivo:\n",
            "   Unnamed: 0  Pressao_Arterial  Idade  Genero  Etnia  Estado_Saude  \\\n",
            "0           0        142.755809     31       1      1             1   \n",
            "1           1        161.878468     35       1      1             0   \n",
            "2           2        161.508259     39       0      3             1   \n",
            "3           3        144.979408     43       1      3             1   \n",
            "4           4        162.502954     55       0      2             1   \n",
            "\n",
            "  Nome_Genero      Nome_Etnia                  Nome_Estado_Saude  \n",
            "0    Feminino  Afro-americano  Com condições de saúde adicionais  \n",
            "1    Feminino  Afro-americano                           Saudável  \n",
            "2   Masculino        Asiático  Com condições de saúde adicionais  \n",
            "3    Feminino        Asiático  Com condições de saúde adicionais  \n",
            "4   Masculino       Hispânico  Com condições de saúde adicionais  \n",
            "\n",
            "Grupo com condições de saúde adicionais:\n",
            "       Unnamed: 0  Pressao_Arterial       Idade      Genero       Etnia  \\\n",
            "count  510.000000        510.000000  510.000000  510.000000  510.000000   \n",
            "mean   495.768627        150.118452   49.831373    0.503922    1.501961   \n",
            "std    284.686933         10.330733   11.939558    0.500476    1.099650   \n",
            "min      0.000000        112.929821   30.000000    0.000000    0.000000   \n",
            "25%    253.250000        143.204099   39.250000    0.000000    1.000000   \n",
            "50%    487.500000        150.130652   49.000000    1.000000    1.000000   \n",
            "75%    740.500000        156.765943   60.000000    1.000000    2.000000   \n",
            "max    996.000000        179.570655   70.000000    1.000000    3.000000   \n",
            "\n",
            "       Estado_Saude  \n",
            "count         510.0  \n",
            "mean            1.0  \n",
            "std             0.0  \n",
            "min             1.0  \n",
            "25%             1.0  \n",
            "50%             1.0  \n",
            "75%             1.0  \n",
            "max             1.0  \n",
            "\n",
            "Grupo saudável:\n",
            "       Unnamed: 0  Pressao_Arterial       Idade      Genero      Etnia  \\\n",
            "count  490.000000        490.000000  490.000000  490.000000  490.00000   \n",
            "mean   503.383673        150.643290   49.679592    0.502041    1.55102   \n",
            "std    293.299451          9.527185   11.421529    0.500507    1.11067   \n",
            "min      1.000000        113.712277   30.000000    0.000000    0.00000   \n",
            "25%    247.500000        144.827983   40.000000    0.000000    1.00000   \n",
            "50%    513.500000        150.787827   49.000000    1.000000    2.00000   \n",
            "75%    757.750000        156.830693   59.000000    1.000000    3.00000   \n",
            "max    999.000000        181.803131   70.000000    1.000000    3.00000   \n",
            "\n",
            "       Estado_Saude  \n",
            "count         490.0  \n",
            "mean            0.0  \n",
            "std             0.0  \n",
            "min             0.0  \n",
            "25%             0.0  \n",
            "50%             0.0  \n",
            "75%             0.0  \n",
            "max             0.0  \n",
            "\n",
            "As amostras são independentes, pois os grupos são formados por indivíduos distintos.\n"
          ]
        }
      ]
    },
    {
      "cell_type": "markdown",
      "source": [
        "# 5. Agora considere o um conjunto de pessoas aleatória que representam o index do dataframe, índices = ([690, 894, 67, 201, 364, 19, 60, 319,588, 643, 855, 623, 530, 174, 105, 693, 6, 462, 973, 607, 811, 346, 354, 966, 943, 372]), podemos dizer que a pressão arterial média para pacientes com condições de saúde adicionais é igual à pressão arterial média para pacientes sem condições adicionais de saúde? Considere o nível de significância a 6%."
      ],
      "metadata": {
        "id": "BEAHDnclAPuR"
      }
    },
    {
      "cell_type": "markdown",
      "source": [
        "Para verificar se a pressão arterial média dos pacientes com condições de saúde adicionais é igual à pressão arterial média dos pacientes saudáveis, podemos realizar um teste de hipóteses. Neste caso, vamos utilizar um teste t de Student para duas amostras independentes, considerando um nível de significância de 6% (0,06).\n",
        "\n",
        "Passos do Procedimento\n",
        "Definir as Hipóteses:\n",
        "\n",
        "Hipótese Nula (\n",
        "𝐻\n",
        "0\n",
        "H\n",
        "0\n",
        "​\n",
        " ): A pressão arterial média dos pacientes com condições de saúde adicionais é igual à pressão arterial média dos pacientes saudáveis.\n",
        "Hipótese Alternativa (\n",
        "𝐻\n",
        "𝑎\n",
        "H\n",
        "a\n",
        "​\n",
        " ): A pressão arterial média dos pacientes com condições de saúde adicionais não é igual à pressão arterial média dos pacientes saudáveis.\n",
        "Calcular a Média e o Desvio Padrão:\n",
        "\n",
        "Usaremos os índices fornecidos para obter as pressões arteriais dos pacientes.\n",
        "Realizar o Teste t:\n",
        "\n",
        "Usar a fórmula do teste t para duas amostras independentes.\n",
        "Comparar o valor p com o nível de significância:\n",
        "\n",
        "Se\n",
        "𝑝\n",
        "<\n",
        "𝛼\n",
        "p<α, rejeitamos a hipótese nula."
      ],
      "metadata": {
        "id": "EKdehUSgAxvB"
      }
    },
    {
      "cell_type": "code",
      "source": [
        "import pandas as pd\n",
        "from scipy import stats\n",
        "\n",
        "# Carregar a base de dados\n",
        "df = pd.read_csv('pacientes (1).csv')\n",
        "\n",
        "# Índices fornecidos\n",
        "indices = [690, 894, 67, 201, 364, 19, 60, 319, 588, 643, 855, 623, 530, 174, 105, 693, 6, 462, 973, 607, 811, 346, 354, 966, 943, 372]\n",
        "\n",
        "# Obter os dados da amostra usando os índices fornecidos\n",
        "amostra = df.loc[indices]\n",
        "\n",
        "# Separar os grupos\n",
        "grupo_condicoes_adicionais = amostra[amostra['Estado_Saude'] == 1]['Pressao_Arterial']\n",
        "grupo_saudaveis = amostra[amostra['Estado_Saude'] == 0]['Pressao_Arterial']\n",
        "\n",
        "# Calcular as médias e desvios padrão\n",
        "media_condicoes_adicionais = grupo_condicoes_adicionais.mean()\n",
        "media_saudaveis = grupo_saudaveis.mean()\n",
        "desvio_condicoes_adicionais = grupo_condicoes_adicionais.std(ddof=1)\n",
        "desvio_saudaveis = grupo_saudaveis.std(ddof=1)\n",
        "\n",
        "# Número de amostras\n",
        "n1 = len(grupo_condicoes_adicionais)\n",
        "n2 = len(grupo_saudaveis)\n",
        "\n",
        "# Realizar o teste t\n",
        "t_stat, p_value = stats.ttest_ind(grupo_condicoes_adicionais, grupo_saudaveis, equal_var=False)\n",
        "\n",
        "# Nível de significância\n",
        "alpha = 0.06\n",
        "\n",
        "# Resultados\n",
        "print(f\"Média da Pressão Arterial (Condições Adicionais): {media_condicoes_adicionais:.2f}\")\n",
        "print(f\"Média da Pressão Arterial (Saudáveis): {media_saudaveis:.2f}\")\n",
        "print(f\"Valor t: {t_stat:.2f}, Valor p: {p_value:.4f}\")\n",
        "\n",
        "# Comparar valor p com o nível de significância\n",
        "if p_value < alpha:\n",
        "    print(\"Rejeitamos a hipótese nula: as pressões arteriais médias são diferentes.\")\n",
        "else:\n",
        "    print(\"Não rejeitamos a hipótese nula: não há evidências suficientes para afirmar que as pressões arteriais médias são diferentes.\")\n"
      ],
      "metadata": {
        "colab": {
          "base_uri": "https://localhost:8080/"
        },
        "id": "VN3ISKMfAaKm",
        "outputId": "88a01a5b-3f74-4082-c947-f5fe6419725b"
      },
      "execution_count": null,
      "outputs": [
        {
          "output_type": "stream",
          "name": "stdout",
          "text": [
            "Média da Pressão Arterial (Condições Adicionais): 153.20\n",
            "Média da Pressão Arterial (Saudáveis): 152.94\n",
            "Valor t: 0.08, Valor p: 0.9345\n",
            "Não rejeitamos a hipótese nula: não há evidências suficientes para afirmar que as pressões arteriais médias são diferentes.\n"
          ]
        }
      ]
    },
    {
      "cell_type": "markdown",
      "source": [
        "# 6. Existe uma diferença significativa na pressão arterial média entre diferentes grupos étnicos nesta população? (Teste ANOVA, alpha é 5%)\n",
        "\n",
        "a. Hipótese Nula (H0): A pressão arterial média é a mesma em todos os grupos étnicos.\n"
      ],
      "metadata": {
        "id": "PzWZDas0BIZR"
      }
    },
    {
      "cell_type": "code",
      "source": [
        "import pandas as pd\n",
        "from scipy import stats\n",
        "\n",
        "# Carregar a base de dados\n",
        "df = pd.read_csv('pacientes (1).csv')\n",
        "\n",
        "# Agrupar os dados pela etnia e coletar a pressão arterial para cada grupo\n",
        "grupos = df.groupby('Nome_Etnia')['Pressao_Arterial'].apply(list)\n",
        "\n",
        "# Realizar o teste ANOVA\n",
        "f_stat, p_value = stats.f_oneway(*grupos)\n",
        "\n",
        "# Nível de significância\n",
        "alpha = 0.05\n",
        "\n",
        "# Resultados\n",
        "print(f\"Estatística F: {f_stat:.2f}, Valor p: {p_value:.4f}\")\n",
        "\n",
        "# Comparar valor p com o nível de significância\n",
        "if p_value < alpha:\n",
        "    print(\"Rejeitamos a hipótese nula: há uma diferença significativa na pressão arterial média entre os grupos étnicos.\")\n",
        "else:\n",
        "    print(\"Não rejeitamos a hipótese nula: não há evidências suficientes para afirmar que há uma diferença significativa na pressão arterial média entre os grupos étnicos.\")\n"
      ],
      "metadata": {
        "colab": {
          "base_uri": "https://localhost:8080/"
        },
        "id": "UNQ1B5VRBYQF",
        "outputId": "f6b2e056-301c-469f-f6eb-bc71e46d63df"
      },
      "execution_count": null,
      "outputs": [
        {
          "output_type": "stream",
          "name": "stdout",
          "text": [
            "Estatística F: 0.23, Valor p: 0.8738\n",
            "Não rejeitamos a hipótese nula: não há evidências suficientes para afirmar que há uma diferença significativa na pressão arterial média entre os grupos étnicos.\n"
          ]
        }
      ]
    },
    {
      "cell_type": "markdown",
      "source": [
        "**b. Hipótese Alternativa (H1): Há uma diferença significativa na pressão arterial média entre pelo menos dois grupos étnicos nesta população.**"
      ],
      "metadata": {
        "id": "VLAUzsp6DYPC"
      }
    },
    {
      "cell_type": "code",
      "source": [
        "import pandas as pd\n",
        "from scipy import stats\n",
        "\n",
        "# Carregar a base de dados\n",
        "df = pd.read_csv('pacientes (1).csv')\n",
        "\n",
        "# Agrupar os dados pela etnia e coletar a pressão arterial para cada grupo\n",
        "grupos = df.groupby('Nome_Etnia')['Pressao_Arterial'].apply(list)\n",
        "\n",
        "# Realizar o teste ANOVA\n",
        "f_stat, p_value = stats.f_oneway(*grupos)\n",
        "\n",
        "# Nível de significância\n",
        "alpha = 0.05\n",
        "\n",
        "# Resultados\n",
        "print(f\"Estatística F: {f_stat:.2f}, Valor p: {p_value:.4f}\")\n",
        "\n",
        "# Comparar valor p com o nível de significância\n",
        "if p_value < alpha:\n",
        "    print(\"Rejeitamos a hipótese nula: há uma diferença significativa na pressão arterial média entre os grupos étnicos.\")\n",
        "else:\n",
        "    print(\"Não rejeitamos a hipótese nula: não há evidências suficientes para afirmar que há uma diferença significativa na pressão arterial média entre os grupos étnicos.\")\n"
      ],
      "metadata": {
        "colab": {
          "base_uri": "https://localhost:8080/"
        },
        "id": "viY4v18WDfvh",
        "outputId": "106de750-3424-4f71-985f-35bab2da1ba3"
      },
      "execution_count": null,
      "outputs": [
        {
          "output_type": "stream",
          "name": "stdout",
          "text": [
            "Estatística F: 0.23, Valor p: 0.8738\n",
            "Não rejeitamos a hipótese nula: não há evidências suficientes para afirmar que há uma diferença significativa na pressão arterial média entre os grupos étnicos.\n"
          ]
        }
      ]
    },
    {
      "cell_type": "markdown",
      "source": [
        "# 7. Lúcia é uma pesquisadora e tem o objetivo de entender a relação de gênero neste grupo de pacientes. Acredita-se que há uma relação entre o sexo e condições de saúde adicionais. (Teste qui-quadrado)"
      ],
      "metadata": {
        "id": "d6UKeFMqDs7c"
      }
    },
    {
      "cell_type": "markdown",
      "source": [
        "Hipóteses:\n",
        "Hipótese Nula (\n",
        "𝐻\n",
        "0\n",
        "H\n",
        "0\n",
        "​\n",
        " ): Não há relação entre o gênero e as condições de saúde adicionais.\n",
        "Hipótese Alternativa (\n",
        "𝐻\n",
        "1\n",
        "H\n",
        "1\n",
        "​\n",
        " ): Há uma relação significativa entre o gênero e as condições de saúde adicionais.\n"
      ],
      "metadata": {
        "id": "j6TgkIYgENzq"
      }
    },
    {
      "cell_type": "code",
      "source": [
        "import pandas as pd\n",
        "import scipy.stats as stats\n",
        "\n",
        "# Carregar a base de dados\n",
        "df = pd.read_csv('pacientes (1).csv')\n",
        "\n",
        "# Criar uma tabela de contingência entre Gênero e Estado de Saúde (saudável ou com condições adicionais)\n",
        "tabela_contingencia = pd.crosstab(df['Nome_Genero'], df['Nome_Estado_Saude'])\n",
        "\n",
        "# Realizar o teste qui-quadrado\n",
        "chi2, p, dof, expected = stats.chi2_contingency(tabela_contingencia)\n",
        "\n",
        "# Nível de significância\n",
        "alpha = 0.05\n",
        "\n",
        "# Resultados\n",
        "print(f\"Qui-quadrado: {chi2:.2f}, Valor p: {p:.4f}, Graus de Liberdade: {dof}\")\n",
        "print(\"Tabela esperada:\")\n",
        "print(expected)\n",
        "\n",
        "# Verificar o resultado\n",
        "if p < alpha:\n",
        "    print(\"Rejeitamos a hipótese nula: há uma relação significativa entre o gênero e as condições de saúde adicionais.\")\n",
        "else:\n",
        "    print(\"Não rejeitamos a hipótese nula: não há evidências suficientes para afirmar que há uma relação entre o gênero e as condições de saúde adicionais.\")\n"
      ],
      "metadata": {
        "colab": {
          "base_uri": "https://localhost:8080/"
        },
        "id": "X4rA4pmQDwmS",
        "outputId": "a23d1be1-fb09-4f68-e720-6f2ca035f3e7"
      },
      "execution_count": null,
      "outputs": [
        {
          "output_type": "stream",
          "name": "stdout",
          "text": [
            "Qui-quadrado: 0.00, Valor p: 1.0000, Graus de Liberdade: 1\n",
            "Tabela esperada:\n",
            "[[256.53 246.47]\n",
            " [253.47 243.53]]\n",
            "Não rejeitamos a hipótese nula: não há evidências suficientes para afirmar que há uma relação entre o gênero e as condições de saúde adicionais.\n"
          ]
        }
      ]
    },
    {
      "cell_type": "markdown",
      "source": [
        "# 8. Existe uma associação entre a idade dos pacientes e sua pressão arterial?\n",
        "\n",
        "**a. Hipótese Nula (H0): se a pressão arterial é independente da idade**\n"
      ],
      "metadata": {
        "id": "OhSM1nSSE_4z"
      }
    },
    {
      "cell_type": "code",
      "source": [
        "import pandas as pd\n",
        "import scipy.stats as stats\n",
        "\n",
        "# Carregar a base de dados\n",
        "df = pd.read_csv('pacientes (1).csv')\n",
        "\n",
        "# Calcular a correlação de Pearson\n",
        "correlation, p_value = stats.pearsonr(df['Idade'], df['Pressao_Arterial'])\n",
        "\n",
        "# Nível de significância\n",
        "alpha = 0.05\n",
        "\n",
        "# Resultados\n",
        "print(f\"Correlação de Pearson: {correlation:.4f}, Valor p: {p_value:.4f}\")\n",
        "\n",
        "# Verificar o resultado\n",
        "if p_value < alpha:\n",
        "    print(\"Rejeitamos a hipótese nula: há uma associação significativa entre a idade e a pressão arterial.\")\n",
        "else:\n",
        "    print(\"Não rejeitamos a hipótese nula: não há evidências suficientes para afirmar que a pressão arterial é independente da idade.\")\n"
      ],
      "metadata": {
        "colab": {
          "base_uri": "https://localhost:8080/"
        },
        "id": "_72833HWFGbb",
        "outputId": "a677d16b-b504-42c1-e651-3e157774a8bf"
      },
      "execution_count": null,
      "outputs": [
        {
          "output_type": "stream",
          "name": "stdout",
          "text": [
            "Correlação de Pearson: -0.0214, Valor p: 0.4994\n",
            "Não rejeitamos a hipótese nula: não há evidências suficientes para afirmar que a pressão arterial é independente da idade.\n"
          ]
        }
      ]
    },
    {
      "cell_type": "markdown",
      "source": [
        "**b. Hipótese Alternativa (H1): a pressão arterial esta associada a idade**"
      ],
      "metadata": {
        "id": "HhXARROKFKYQ"
      }
    },
    {
      "cell_type": "code",
      "source": [
        "import pandas as pd\n",
        "import scipy.stats as stats\n",
        "\n",
        "# Carregar a base de dados\n",
        "df = pd.read_csv('pacientes (1).csv')\n",
        "\n",
        "# Calcular a correlação de Pearson\n",
        "correlation, p_value = stats.pearsonr(df['Idade'], df['Pressao_Arterial'])\n",
        "\n",
        "# Nível de significância\n",
        "alpha = 0.05\n",
        "\n",
        "# Resultados\n",
        "print(f\"Correlação de Pearson: {correlation:.4f}, Valor p: {p_value:.4f}\")\n",
        "\n",
        "# Verificar o resultado\n",
        "if p_value < alpha:\n",
        "    print(\"Rejeitamos a hipótese nula: há uma associação significativa entre a idade e a pressão arterial.\")\n",
        "else:\n",
        "    print(\"Não rejeitamos a hipótese nula: não há evidências suficientes para afirmar que há uma associação entre a idade e a pressão arterial.\")\n"
      ],
      "metadata": {
        "colab": {
          "base_uri": "https://localhost:8080/"
        },
        "id": "AVbLLxG6FRTg",
        "outputId": "46c4adc2-34c3-44ef-b71d-afe764f329c0"
      },
      "execution_count": null,
      "outputs": [
        {
          "output_type": "stream",
          "name": "stdout",
          "text": [
            "Correlação de Pearson: -0.0214, Valor p: 0.4994\n",
            "Não rejeitamos a hipótese nula: não há evidências suficientes para afirmar que há uma associação entre a idade e a pressão arterial.\n"
          ]
        }
      ]
    },
    {
      "cell_type": "markdown",
      "source": [
        "# 9. Qual é o intervalo de confiança para a média da pressão arterial entre os pacientes com condições de saúde adicionais? (nível de confiança 95%)"
      ],
      "metadata": {
        "id": "PLoNZT8JF9wi"
      }
    },
    {
      "cell_type": "markdown",
      "source": [
        "Fórmula do Intervalo de Confiança:\n",
        "𝐼\n",
        "𝐶\n",
        "=\n",
        "𝑥\n",
        "ˉ\n",
        "±\n",
        "𝑡\n",
        "𝛼\n",
        "/\n",
        "2\n",
        "×\n",
        "SEM\n",
        "IC=\n",
        "x\n",
        "ˉ\n",
        " ±t\n",
        "α/2\n",
        "​\n",
        " ×SEM\n",
        "onde:\n",
        "\n",
        "𝑥\n",
        "ˉ\n",
        "x\n",
        "ˉ\n",
        "  é a média da pressão arterial.\n",
        "𝑡\n",
        "𝛼\n",
        "/\n",
        "2\n",
        "t\n",
        "α/2\n",
        "​\n",
        "  é o valor crítico da distribuição t para o nível de confiança desejado (neste caso, 95%).\n",
        "SEM\n",
        "=\n",
        "𝑠\n",
        "𝑛\n",
        "SEM=\n",
        "n\n",
        "​\n",
        "\n",
        "s\n",
        "​\n",
        "  é o erro padrão da média, onde\n",
        "𝑠\n",
        "s é o desvio padrão da amostra e\n",
        "𝑛\n",
        "n é o tamanho da amostra."
      ],
      "metadata": {
        "id": "UPkBQ67fGSx9"
      }
    },
    {
      "cell_type": "code",
      "source": [
        "import pandas as pd\n",
        "import numpy as np\n",
        "import scipy.stats as stats\n",
        "\n",
        "# Carregar a base de dados\n",
        "df = pd.read_csv('pacientes (1).csv')\n",
        "\n",
        "# Filtrar os pacientes com condições de saúde adicionais\n",
        "condicoes_adicionais = df[df['Estado_Saude'] == 1]  # Considerando 1 como condição de saúde adicional\n",
        "\n",
        "# Calcular a média e o desvio padrão da pressão arterial\n",
        "media_pressao = np.mean(condicoes_adicionais['Pressao_Arterial'])\n",
        "desvio_padrao = np.std(condicoes_adicionais['Pressao_Arterial'], ddof=1)\n",
        "n = len(condicoes_adicionais)\n",
        "\n",
        "# Calcular o erro padrão da média (SEM)\n",
        "sem = desvio_padrao / np.sqrt(n)\n",
        "\n",
        "# Obter o valor crítico t para 95% de confiança\n",
        "alpha = 0.05\n",
        "t_critical = stats.t.ppf(1 - alpha / 2, df=n-1)\n",
        "\n",
        "# Calcular o intervalo de confiança\n",
        "margem_erro = t_critical * sem\n",
        "intervalo_conf = (media_pressao - margem_erro, media_pressao + margem_erro)\n",
        "\n",
        "# Resultados\n",
        "print(f\"Média da Pressão Arterial: {media_pressao:.2f}\")\n",
        "print(f\"Intervalo de Confiança (95%): {intervalo_conf[0]:.2f} a {intervalo_conf[1]:.2f}\")\n"
      ],
      "metadata": {
        "colab": {
          "base_uri": "https://localhost:8080/"
        },
        "id": "gmZvMK94GCjw",
        "outputId": "4616f975-32f3-457c-a776-e13a1ed69440"
      },
      "execution_count": null,
      "outputs": [
        {
          "output_type": "stream",
          "name": "stdout",
          "text": [
            "Média da Pressão Arterial: 150.12\n",
            "Intervalo de Confiança (95%): 149.22 a 151.02\n"
          ]
        }
      ]
    },
    {
      "cell_type": "markdown",
      "source": [
        "# 10. A distribuição da pressão arterial na população segue uma distribuição normal?\n",
        "\n",
        "\n",
        "a. Hipótese Nula (H0): A distribuição da pressão arterial na\n",
        "população segue uma distribuição normal."
      ],
      "metadata": {
        "id": "hbwR2VkbGcIS"
      }
    },
    {
      "cell_type": "markdown",
      "source": [
        "Fórmula do Teste de Normalidade (Shapiro-Wilk):\n",
        "O teste de Shapiro-Wilk fornece um valor p que indica a probabilidade de que os dados venham de uma distribuição normal. Se o valor p for menor que o nível de significância (α), rejeitamos a hipótese nula."
      ],
      "metadata": {
        "id": "REXdeMEEGyx6"
      }
    },
    {
      "cell_type": "code",
      "source": [
        "import pandas as pd\n",
        "import scipy.stats as stats\n",
        "\n",
        "# Carregar a base de dados\n",
        "df = pd.read_csv('pacientes (1).csv')\n",
        "\n",
        "# Obter a pressão arterial da população\n",
        "pressao_arterial = df['Pressao_Arterial']\n",
        "\n",
        "# Realizar o teste de Shapiro-Wilk\n",
        "stat, p_value = stats.shapiro(pressao_arterial)\n",
        "\n",
        "# Definir o nível de significância\n",
        "alpha = 0.05\n",
        "\n",
        "# Resultados\n",
        "print(f\"Estatística do teste: {stat:.4f}\")\n",
        "print(f\"Valor p: {p_value:.4f}\")\n",
        "\n",
        "# Decisão\n",
        "if p_value > alpha:\n",
        "    print(\"Não rejeitamos a hipótese nula: A distribuição da pressão arterial na população pode ser normal.\")\n",
        "else:\n",
        "    print(\"Rejeitamos a hipótese nula: A distribuição da pressão arterial na população não é normal.\")\n"
      ],
      "metadata": {
        "colab": {
          "base_uri": "https://localhost:8080/"
        },
        "id": "4wQjRp9GGhcq",
        "outputId": "ff9fd93f-8422-4f53-c9ce-1a29183e235e"
      },
      "execution_count": null,
      "outputs": [
        {
          "output_type": "stream",
          "name": "stdout",
          "text": [
            "Estatística do teste: 0.9970\n",
            "Valor p: 0.0607\n",
            "Não rejeitamos a hipótese nula: A distribuição da pressão arterial na população pode ser normal.\n"
          ]
        }
      ]
    },
    {
      "cell_type": "markdown",
      "source": [
        "b. Hipótese Alternativa (H1): A distribuição da pressão arterial na\n",
        "população não segue uma distribuição normal."
      ],
      "metadata": {
        "id": "1MtuJH6YG5rF"
      }
    },
    {
      "cell_type": "code",
      "source": [
        "import pandas as pd\n",
        "import scipy.stats as stats\n",
        "\n",
        "# Carregar a base de dados\n",
        "df = pd.read_csv('pacientes (1).csv')\n",
        "\n",
        "# Obter a pressão arterial da população\n",
        "pressao_arterial = df['Pressao_Arterial']\n",
        "\n",
        "# Realizar o teste de Shapiro-Wilk\n",
        "stat, p_value = stats.shapiro(pressao_arterial)\n",
        "\n",
        "# Definir o nível de significância\n",
        "alpha = 0.05\n",
        "\n",
        "# Resultados\n",
        "print(f\"Estatística do teste: {stat:.4f}\")\n",
        "print(f\"Valor p: {p_value:.4f}\")\n",
        "\n",
        "# Decisão\n",
        "if p_value > alpha:\n",
        "    print(\"Não rejeitamos a hipótese nula: A distribuição da pressão arterial na população pode ser normal.\")\n",
        "else:\n",
        "    print(\"Rejeitamos a hipótese nula: A distribuição da pressão arterial na população não é normal.\")\n"
      ],
      "metadata": {
        "colab": {
          "base_uri": "https://localhost:8080/"
        },
        "id": "oeQ3U7FKG8Ur",
        "outputId": "85acd461-a2eb-4ada-e417-5830b7ea43e9"
      },
      "execution_count": null,
      "outputs": [
        {
          "output_type": "stream",
          "name": "stdout",
          "text": [
            "Estatística do teste: 0.9970\n",
            "Valor p: 0.0607\n",
            "Não rejeitamos a hipótese nula: A distribuição da pressão arterial na população pode ser normal.\n"
          ]
        }
      ]
    }
  ]
}